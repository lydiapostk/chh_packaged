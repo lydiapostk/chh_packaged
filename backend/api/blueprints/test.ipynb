{
 "cells": [
  {
   "cell_type": "code",
   "execution_count": null,
   "metadata": {},
   "outputs": [],
   "source": [
    "import requests\n",
    "import pandas as pd\n",
    "import sys\n",
    "\n",
    "sys.path.append('c:\\\\Users\\\\Lydia\\\\Documents\\\\Optimisation\\\\chh\\\\CRSGUI - Generic\\\\')\n",
    "\n",
    "from api.models import *"
   ]
  }
 ],
 "metadata": {
  "language_info": {
   "name": "python"
  }
 },
 "nbformat": 4,
 "nbformat_minor": 2
}
